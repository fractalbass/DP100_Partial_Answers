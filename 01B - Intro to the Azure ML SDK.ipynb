{
 "cells": [
  {
   "cell_type": "markdown",
   "metadata": {},
   "source": [
    "# Introduction to the Azure ML SDK\n",
    "\n",
    "Azure Machine Learning (*Azure ML*) is a cloud-based service for creating and managing machine learning solutions. It's designed to help data scientists leverage their existing data processing and model development skills and frameworks, and help them scale their workloads to the cloud. The Azure ML SDK for Python provides classes you can use to work with Azure ML in your Azure subscription.\n",
    "\n",
    "## Check the Azure ML SDK Version\n",
    "\n",
    "Let's start by importing the **azureml-core** package and checking the version of the SDK that is installed.\n",
    "\n",
    "In the cell below use the variable on azure.core that returns the version of the package."
   ]
  },
  {
   "cell_type": "code",
   "execution_count": 2,
   "metadata": {},
   "outputs": [
    {
     "name": "stdout",
     "output_type": "stream",
     "text": [
      "Ready to use Azure ML 1.43.0\n"
     ]
    }
   ],
   "source": [
    "import azureml.core\n",
    "\n",
    "# Fix the following code to set version to the version of the Azureml SDK \n",
    "\n",
    "version = None #<- fix this.  Hint... you will want something like \"azureml.core.foo\"\n",
    "\n",
    "################################\n",
    "\n",
    "print(\"Ready to use Azure ML\", version)\n",
    "\n",
    "assert type(version)==str\n",
    "assert version == '1.43.0'"
   ]
  },
  {
   "cell_type": "markdown",
   "metadata": {},
   "source": [
    "## Connect to Your Workspace\n",
    "\n",
    "All experiments and associated resources are managed within you Azure ML workspace. You can connect to an existing workspace, or create a new one using the Azure ML SDK.\n",
    "\n",
    "In most cases, you should store the workspace configuration in a JSON configuration file. This makes it easier to reconnect without needing to remember details like your Azure subscription ID. You can download the JSON configuration file from the blade for your workspace in the Azure portal, but if you're using a Compute Instance within your wokspace, the configuration file has already been downloaded to the root folder.\n",
    "\n",
    "The code below uses the configuration file to connect to your workspace. The first time you run it in a notebook session, you'll be prompted to sign into Azure by clicking the https://microsoft.com/devicelogin link,  entering an automatically generated code, and signing into Azure. After you have successfully signed in, you can close the browser tab that was opened and return to this notebook."
   ]
  },
  {
   "cell_type": "code",
   "execution_count": 13,
   "metadata": {},
   "outputs": [
    {
     "name": "stdout",
     "output_type": "stream",
     "text": [
      "dp100-workspace loaded\n"
     ]
    }
   ],
   "source": [
    "from azureml.core import Workspace\n",
    "\n",
    "#  Complete the code below that loads the workspace from the config.json file.  \n",
    "#  You will need to download this file the first time you run this code.  \n",
    "#  Log into portal.azure.com\n",
    "#  Find the Azure Machine Learning service and click on it\n",
    "#  Click on the link to enter Azure ML Studio\n",
    "#  Click on the name of your workspace in the upper right of the page\n",
    "#  Click on the link to download the config.json file in to the project directory you are using\n",
    "#  Remember:  The config.json file will be excluded from this repository.\n",
    "\n",
    "ws = None  #<-- Fix this!  You may want to look at the docs for the Workspace object. :)\n",
    "\n",
    "assert(type(ws)==Workspace)\n",
    "#\n",
    "\n",
    "print(ws.name, \"loaded\")"
   ]
  },
  {
   "cell_type": "markdown",
   "metadata": {},
   "source": [
    "## View Azure ML Resources\n",
    "\n",
    "Now that you have a connection to your workspace, you can view the resources it contains.\n",
    "\n",
    "For the following to work, you will need to have compute targets, datastores and datasets already defined in your workspace.  You may want to use the Azure portal to configure them."
   ]
  },
  {
   "cell_type": "code",
   "execution_count": 12,
   "metadata": {},
   "outputs": [
    {
     "name": "stdout",
     "output_type": "stream",
     "text": [
      "Compute Targets:\n",
      "\t Miles-Compute-Cluster : AmlCompute\n",
      "\t mporter1 : ComputeInstance\n",
      "Datastores:\n",
      "\t azureml_globaldatasets : AzureBlob\n",
      "\t workspaceartifactstore : AzureBlob\n",
      "\t workspaceworkingdirectory : AzureFile\n",
      "\t workspaceblobstore : AzureBlob\n",
      "\t workspacefilestore : AzureFile\n",
      "Datasets:\n",
      "\t TD-Pipeline-Created-on-06-17-2022-Clean_Missing_Data-Cleaning_transformation-fcb26d86 : 1\n",
      "\t TD-Pipeline-Created-on-06-17-2022-Normalize_Data-Transformation_function-5ef4402c : 1\n",
      "\t MD-Pipeline-Created-on-06-17-2022-Train_Clustering_Model-Trained_model-dd26bcb2 : 1\n",
      "\t penguin-data : 1\n",
      "\t TD-Diabetes_Training-Normalize_Data-Transformation_function-a57a8039 : 1\n",
      "\t MD-Diabetes_Training-Train_Model-Trained_model-3f17209f : 1\n",
      "\t diabetes-data : 1\n",
      "\t TD-Auto_Price_Training_-_New-Clean_Missing_Data-Cleaning_transformation-8bac379b : 1\n",
      "\t TD-Auto_Price_Training_-_New-Normalize_Data-Transformation_function-b73479a2 : 1\n",
      "\t MD-Auto_Price_Training_-_New-Train_Model-Trained_model-fc9af0ca : 1\n",
      "\t TD-Auto_Price_Training-Clean_Missing_Data-Cleaning_transformation-8bac379b : 1\n",
      "\t TD-Auto_Price_Training-Normalize_Data-Transformation_function-b73479a2 : 1\n",
      "\t MD-Auto_Price_Training-Train_Model-Trained_model-fc9af0ca : 1\n",
      "\t bike-rentals : 1\n"
     ]
    }
   ],
   "source": [
    "from azureml.core import ComputeTarget, Datastore, Dataset\n",
    "\n",
    "print(\"Compute Targets:\")\n",
    "for compute_target in \"hint ws.compute_targets\":  # Fix this to return all the compute targets\n",
    "    compute = ws.compute_targets[\"your code here\"]\n",
    "    compute_name = \"hint compute.name\" # Fix this to be the compute name\n",
    "    compute_type = None # Fix this to be the compute type\n",
    "    print(\"\\t\", compute_name, ':', compute_type)\n",
    "    assert(type(compute_name)==str)\n",
    "    assert(type(compute_type)==str)\n",
    "    \n",
    "    \n",
    "print(\"Datastores:\")\n",
    "for datastore_info in [\"Hint see above!\"]:\n",
    "    datastore = None\n",
    "    datastore_name = None\n",
    "    datastore_type = None\n",
    "    print(\"\\t\", datastore_name, ':', datastore_type)\n",
    "    assert(type(datastore_name)==str)\n",
    "    assert(type(datastore_type)==str)\n",
    "\n",
    "print(\"Datasets:\")\n",
    "for dataset_info in [\"See above also.  :)\"]:\n",
    "    dataset = None\n",
    "    dataset_name = None\n",
    "    dataset_version = None\n",
    "    print(\"\\t\", dataset_name, ':', dataset_version)\n",
    "    assert(type(dataset_name)==str)\n",
    "    assert(type(dataset_version)==int)\n"
   ]
  },
  {
   "cell_type": "markdown",
   "metadata": {},
   "source": [
    "Now you've seen how to use the Azure ML SDK to view the resources in your workspace. The SDK provides a great way to script the creation and configuration of the resources you need to operate machine learning workloads using Azure ML. For more details, see the [Azure ML SDK documentation](https://docs.microsoft.com/python/api/overview/azure/ml/intro?view=azure-ml-py)."
   ]
  }
 ],
 "metadata": {
  "kernelspec": {
   "display_name": "Python 3.10.4 64-bit",
   "language": "python",
   "name": "python3"
  },
  "language_info": {
   "codemirror_mode": {
    "name": "ipython",
    "version": 3
   },
   "file_extension": ".py",
   "mimetype": "text/x-python",
   "name": "python",
   "nbconvert_exporter": "python",
   "pygments_lexer": "ipython3",
   "version": "3.10.4"
  },
  "vscode": {
   "interpreter": {
    "hash": "31f2aee4e71d21fbe5cf8b01ff0e069b9275f58929596ceb00d14d90e3e16cd6"
   }
  }
 },
 "nbformat": 4,
 "nbformat_minor": 2
}
